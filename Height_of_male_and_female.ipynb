{
  "nbformat": 4,
  "nbformat_minor": 0,
  "metadata": {
    "colab": {
      "name": "Height of male and female.ipynb",
      "provenance": [],
      "collapsed_sections": [],
      "authorship_tag": "ABX9TyPn4w+MYHT0jPjQObrkKomC",
      "include_colab_link": true
    },
    "kernelspec": {
      "name": "python3",
      "display_name": "Python 3"
    },
    "language_info": {
      "name": "python"
    }
  },
  "cells": [
    {
      "cell_type": "markdown",
      "metadata": {
        "id": "view-in-github",
        "colab_type": "text"
      },
      "source": [
        "<a href=\"https://colab.research.google.com/github/govindkoli27/heights-of-male-and-female-bu-countries-analysis/blob/main/Height_of_male_and_female.ipynb\" target=\"_parent\"><img src=\"https://colab.research.google.com/assets/colab-badge.svg\" alt=\"Open In Colab\"/></a>"
      ]
    },
    {
      "cell_type": "code",
      "execution_count": 1,
      "metadata": {
        "id": "j8iSJj1zc69E"
      },
      "outputs": [],
      "source": [
        "import pandas as pd \n",
        "import numpy as np\n",
        "import matplotlib.pyplot as plt \n",
        "import seaborn as sns \n",
        "import plotly.express as px\n",
        "import matplotlib.pyplot as plt\n",
        "%matplotlib inline\n"
      ]
    },
    {
      "cell_type": "code",
      "source": [
        "height= pd.read_csv('Height of Male and Female by Country 2022.csv')"
      ],
      "metadata": {
        "id": "0MrkbKkRyg3Z"
      },
      "execution_count": 2,
      "outputs": []
    },
    {
      "cell_type": "code",
      "source": [
        "height"
      ],
      "metadata": {
        "colab": {
          "base_uri": "https://localhost:8080/",
          "height": 424
        },
        "id": "ma7lp84QyvHZ",
        "outputId": "1ae902a2-3bb1-4f0c-973f-b2dd7f58e68c"
      },
      "execution_count": 3,
      "outputs": [
        {
          "output_type": "execute_result",
          "data": {
            "text/plain": [
              "     Rank            Country Name  Male Height in Cm  Female Height in Cm  \\\n",
              "0       1             Netherlands             183.78               170.36   \n",
              "1       2              Montenegro             183.30               169.96   \n",
              "2       3                 Estonia             182.79               168.66   \n",
              "3       4  Bosnia and Herzegovina             182.47               167.47   \n",
              "4       5                 Iceland             182.10               168.91   \n",
              "..    ...                     ...                ...                  ...   \n",
              "194   195              Mozambique             164.30               155.42   \n",
              "195   196        Papua New Guinea             163.10               156.89   \n",
              "196   197         Solomon Islands             163.07               156.79   \n",
              "197   198                    Laos             162.78               153.10   \n",
              "198   199             Timor-Leste             160.13               152.71   \n",
              "\n",
              "     Male Height in Ft  Female Height in Ft  \n",
              "0                 6.03                 5.59  \n",
              "1                 6.01                 5.58  \n",
              "2                 6.00                 5.53  \n",
              "3                 5.99                 5.49  \n",
              "4                 5.97                 5.54  \n",
              "..                 ...                  ...  \n",
              "194               5.39                 5.10  \n",
              "195               5.35                 5.15  \n",
              "196               5.35                 5.14  \n",
              "197               5.34                 5.02  \n",
              "198               5.25                 5.01  \n",
              "\n",
              "[199 rows x 6 columns]"
            ],
            "text/html": [
              "\n",
              "  <div id=\"df-1aff7434-af63-46b3-9233-61aa3d4e8023\">\n",
              "    <div class=\"colab-df-container\">\n",
              "      <div>\n",
              "<style scoped>\n",
              "    .dataframe tbody tr th:only-of-type {\n",
              "        vertical-align: middle;\n",
              "    }\n",
              "\n",
              "    .dataframe tbody tr th {\n",
              "        vertical-align: top;\n",
              "    }\n",
              "\n",
              "    .dataframe thead th {\n",
              "        text-align: right;\n",
              "    }\n",
              "</style>\n",
              "<table border=\"1\" class=\"dataframe\">\n",
              "  <thead>\n",
              "    <tr style=\"text-align: right;\">\n",
              "      <th></th>\n",
              "      <th>Rank</th>\n",
              "      <th>Country Name</th>\n",
              "      <th>Male Height in Cm</th>\n",
              "      <th>Female Height in Cm</th>\n",
              "      <th>Male Height in Ft</th>\n",
              "      <th>Female Height in Ft</th>\n",
              "    </tr>\n",
              "  </thead>\n",
              "  <tbody>\n",
              "    <tr>\n",
              "      <th>0</th>\n",
              "      <td>1</td>\n",
              "      <td>Netherlands</td>\n",
              "      <td>183.78</td>\n",
              "      <td>170.36</td>\n",
              "      <td>6.03</td>\n",
              "      <td>5.59</td>\n",
              "    </tr>\n",
              "    <tr>\n",
              "      <th>1</th>\n",
              "      <td>2</td>\n",
              "      <td>Montenegro</td>\n",
              "      <td>183.30</td>\n",
              "      <td>169.96</td>\n",
              "      <td>6.01</td>\n",
              "      <td>5.58</td>\n",
              "    </tr>\n",
              "    <tr>\n",
              "      <th>2</th>\n",
              "      <td>3</td>\n",
              "      <td>Estonia</td>\n",
              "      <td>182.79</td>\n",
              "      <td>168.66</td>\n",
              "      <td>6.00</td>\n",
              "      <td>5.53</td>\n",
              "    </tr>\n",
              "    <tr>\n",
              "      <th>3</th>\n",
              "      <td>4</td>\n",
              "      <td>Bosnia and Herzegovina</td>\n",
              "      <td>182.47</td>\n",
              "      <td>167.47</td>\n",
              "      <td>5.99</td>\n",
              "      <td>5.49</td>\n",
              "    </tr>\n",
              "    <tr>\n",
              "      <th>4</th>\n",
              "      <td>5</td>\n",
              "      <td>Iceland</td>\n",
              "      <td>182.10</td>\n",
              "      <td>168.91</td>\n",
              "      <td>5.97</td>\n",
              "      <td>5.54</td>\n",
              "    </tr>\n",
              "    <tr>\n",
              "      <th>...</th>\n",
              "      <td>...</td>\n",
              "      <td>...</td>\n",
              "      <td>...</td>\n",
              "      <td>...</td>\n",
              "      <td>...</td>\n",
              "      <td>...</td>\n",
              "    </tr>\n",
              "    <tr>\n",
              "      <th>194</th>\n",
              "      <td>195</td>\n",
              "      <td>Mozambique</td>\n",
              "      <td>164.30</td>\n",
              "      <td>155.42</td>\n",
              "      <td>5.39</td>\n",
              "      <td>5.10</td>\n",
              "    </tr>\n",
              "    <tr>\n",
              "      <th>195</th>\n",
              "      <td>196</td>\n",
              "      <td>Papua New Guinea</td>\n",
              "      <td>163.10</td>\n",
              "      <td>156.89</td>\n",
              "      <td>5.35</td>\n",
              "      <td>5.15</td>\n",
              "    </tr>\n",
              "    <tr>\n",
              "      <th>196</th>\n",
              "      <td>197</td>\n",
              "      <td>Solomon Islands</td>\n",
              "      <td>163.07</td>\n",
              "      <td>156.79</td>\n",
              "      <td>5.35</td>\n",
              "      <td>5.14</td>\n",
              "    </tr>\n",
              "    <tr>\n",
              "      <th>197</th>\n",
              "      <td>198</td>\n",
              "      <td>Laos</td>\n",
              "      <td>162.78</td>\n",
              "      <td>153.10</td>\n",
              "      <td>5.34</td>\n",
              "      <td>5.02</td>\n",
              "    </tr>\n",
              "    <tr>\n",
              "      <th>198</th>\n",
              "      <td>199</td>\n",
              "      <td>Timor-Leste</td>\n",
              "      <td>160.13</td>\n",
              "      <td>152.71</td>\n",
              "      <td>5.25</td>\n",
              "      <td>5.01</td>\n",
              "    </tr>\n",
              "  </tbody>\n",
              "</table>\n",
              "<p>199 rows × 6 columns</p>\n",
              "</div>\n",
              "      <button class=\"colab-df-convert\" onclick=\"convertToInteractive('df-1aff7434-af63-46b3-9233-61aa3d4e8023')\"\n",
              "              title=\"Convert this dataframe to an interactive table.\"\n",
              "              style=\"display:none;\">\n",
              "        \n",
              "  <svg xmlns=\"http://www.w3.org/2000/svg\" height=\"24px\"viewBox=\"0 0 24 24\"\n",
              "       width=\"24px\">\n",
              "    <path d=\"M0 0h24v24H0V0z\" fill=\"none\"/>\n",
              "    <path d=\"M18.56 5.44l.94 2.06.94-2.06 2.06-.94-2.06-.94-.94-2.06-.94 2.06-2.06.94zm-11 1L8.5 8.5l.94-2.06 2.06-.94-2.06-.94L8.5 2.5l-.94 2.06-2.06.94zm10 10l.94 2.06.94-2.06 2.06-.94-2.06-.94-.94-2.06-.94 2.06-2.06.94z\"/><path d=\"M17.41 7.96l-1.37-1.37c-.4-.4-.92-.59-1.43-.59-.52 0-1.04.2-1.43.59L10.3 9.45l-7.72 7.72c-.78.78-.78 2.05 0 2.83L4 21.41c.39.39.9.59 1.41.59.51 0 1.02-.2 1.41-.59l7.78-7.78 2.81-2.81c.8-.78.8-2.07 0-2.86zM5.41 20L4 18.59l7.72-7.72 1.47 1.35L5.41 20z\"/>\n",
              "  </svg>\n",
              "      </button>\n",
              "      \n",
              "  <style>\n",
              "    .colab-df-container {\n",
              "      display:flex;\n",
              "      flex-wrap:wrap;\n",
              "      gap: 12px;\n",
              "    }\n",
              "\n",
              "    .colab-df-convert {\n",
              "      background-color: #E8F0FE;\n",
              "      border: none;\n",
              "      border-radius: 50%;\n",
              "      cursor: pointer;\n",
              "      display: none;\n",
              "      fill: #1967D2;\n",
              "      height: 32px;\n",
              "      padding: 0 0 0 0;\n",
              "      width: 32px;\n",
              "    }\n",
              "\n",
              "    .colab-df-convert:hover {\n",
              "      background-color: #E2EBFA;\n",
              "      box-shadow: 0px 1px 2px rgba(60, 64, 67, 0.3), 0px 1px 3px 1px rgba(60, 64, 67, 0.15);\n",
              "      fill: #174EA6;\n",
              "    }\n",
              "\n",
              "    [theme=dark] .colab-df-convert {\n",
              "      background-color: #3B4455;\n",
              "      fill: #D2E3FC;\n",
              "    }\n",
              "\n",
              "    [theme=dark] .colab-df-convert:hover {\n",
              "      background-color: #434B5C;\n",
              "      box-shadow: 0px 1px 3px 1px rgba(0, 0, 0, 0.15);\n",
              "      filter: drop-shadow(0px 1px 2px rgba(0, 0, 0, 0.3));\n",
              "      fill: #FFFFFF;\n",
              "    }\n",
              "  </style>\n",
              "\n",
              "      <script>\n",
              "        const buttonEl =\n",
              "          document.querySelector('#df-1aff7434-af63-46b3-9233-61aa3d4e8023 button.colab-df-convert');\n",
              "        buttonEl.style.display =\n",
              "          google.colab.kernel.accessAllowed ? 'block' : 'none';\n",
              "\n",
              "        async function convertToInteractive(key) {\n",
              "          const element = document.querySelector('#df-1aff7434-af63-46b3-9233-61aa3d4e8023');\n",
              "          const dataTable =\n",
              "            await google.colab.kernel.invokeFunction('convertToInteractive',\n",
              "                                                     [key], {});\n",
              "          if (!dataTable) return;\n",
              "\n",
              "          const docLinkHtml = 'Like what you see? Visit the ' +\n",
              "            '<a target=\"_blank\" href=https://colab.research.google.com/notebooks/data_table.ipynb>data table notebook</a>'\n",
              "            + ' to learn more about interactive tables.';\n",
              "          element.innerHTML = '';\n",
              "          dataTable['output_type'] = 'display_data';\n",
              "          await google.colab.output.renderOutput(dataTable, element);\n",
              "          const docLink = document.createElement('div');\n",
              "          docLink.innerHTML = docLinkHtml;\n",
              "          element.appendChild(docLink);\n",
              "        }\n",
              "      </script>\n",
              "    </div>\n",
              "  </div>\n",
              "  "
            ]
          },
          "metadata": {},
          "execution_count": 3
        }
      ]
    },
    {
      "cell_type": "code",
      "source": [
        "height['Mean Height']= (height['Male Height in Cm'] + height['Female Height in Cm'])/2"
      ],
      "metadata": {
        "id": "qPjeViUYztpR"
      },
      "execution_count": 9,
      "outputs": []
    },
    {
      "cell_type": "markdown",
      "source": [
        "Added a mean height column for each country"
      ],
      "metadata": {
        "id": "9mKxdz4_1Ke4"
      }
    },
    {
      "cell_type": "code",
      "source": [
        "height.drop([\"Rank\",'Male Height in Ft','Female Height in Ft'], axis=1)"
      ],
      "metadata": {
        "colab": {
          "base_uri": "https://localhost:8080/",
          "height": 424
        },
        "id": "p1gYr8dky4Hy",
        "outputId": "027b26bd-34ed-449e-fb10-b659e9d2d453"
      },
      "execution_count": 10,
      "outputs": [
        {
          "output_type": "execute_result",
          "data": {
            "text/plain": [
              "               Country Name  Male Height in Cm  Female Height in Cm  \\\n",
              "0               Netherlands             183.78               170.36   \n",
              "1                Montenegro             183.30               169.96   \n",
              "2                   Estonia             182.79               168.66   \n",
              "3    Bosnia and Herzegovina             182.47               167.47   \n",
              "4                   Iceland             182.10               168.91   \n",
              "..                      ...                ...                  ...   \n",
              "194              Mozambique             164.30               155.42   \n",
              "195        Papua New Guinea             163.10               156.89   \n",
              "196         Solomon Islands             163.07               156.79   \n",
              "197                    Laos             162.78               153.10   \n",
              "198             Timor-Leste             160.13               152.71   \n",
              "\n",
              "     Mean Height  \n",
              "0        177.070  \n",
              "1        176.630  \n",
              "2        175.725  \n",
              "3        174.970  \n",
              "4        175.505  \n",
              "..           ...  \n",
              "194      159.860  \n",
              "195      159.995  \n",
              "196      159.930  \n",
              "197      157.940  \n",
              "198      156.420  \n",
              "\n",
              "[199 rows x 4 columns]"
            ],
            "text/html": [
              "\n",
              "  <div id=\"df-0b320364-54cf-4463-a18f-45029f606a05\">\n",
              "    <div class=\"colab-df-container\">\n",
              "      <div>\n",
              "<style scoped>\n",
              "    .dataframe tbody tr th:only-of-type {\n",
              "        vertical-align: middle;\n",
              "    }\n",
              "\n",
              "    .dataframe tbody tr th {\n",
              "        vertical-align: top;\n",
              "    }\n",
              "\n",
              "    .dataframe thead th {\n",
              "        text-align: right;\n",
              "    }\n",
              "</style>\n",
              "<table border=\"1\" class=\"dataframe\">\n",
              "  <thead>\n",
              "    <tr style=\"text-align: right;\">\n",
              "      <th></th>\n",
              "      <th>Country Name</th>\n",
              "      <th>Male Height in Cm</th>\n",
              "      <th>Female Height in Cm</th>\n",
              "      <th>Mean Height</th>\n",
              "    </tr>\n",
              "  </thead>\n",
              "  <tbody>\n",
              "    <tr>\n",
              "      <th>0</th>\n",
              "      <td>Netherlands</td>\n",
              "      <td>183.78</td>\n",
              "      <td>170.36</td>\n",
              "      <td>177.070</td>\n",
              "    </tr>\n",
              "    <tr>\n",
              "      <th>1</th>\n",
              "      <td>Montenegro</td>\n",
              "      <td>183.30</td>\n",
              "      <td>169.96</td>\n",
              "      <td>176.630</td>\n",
              "    </tr>\n",
              "    <tr>\n",
              "      <th>2</th>\n",
              "      <td>Estonia</td>\n",
              "      <td>182.79</td>\n",
              "      <td>168.66</td>\n",
              "      <td>175.725</td>\n",
              "    </tr>\n",
              "    <tr>\n",
              "      <th>3</th>\n",
              "      <td>Bosnia and Herzegovina</td>\n",
              "      <td>182.47</td>\n",
              "      <td>167.47</td>\n",
              "      <td>174.970</td>\n",
              "    </tr>\n",
              "    <tr>\n",
              "      <th>4</th>\n",
              "      <td>Iceland</td>\n",
              "      <td>182.10</td>\n",
              "      <td>168.91</td>\n",
              "      <td>175.505</td>\n",
              "    </tr>\n",
              "    <tr>\n",
              "      <th>...</th>\n",
              "      <td>...</td>\n",
              "      <td>...</td>\n",
              "      <td>...</td>\n",
              "      <td>...</td>\n",
              "    </tr>\n",
              "    <tr>\n",
              "      <th>194</th>\n",
              "      <td>Mozambique</td>\n",
              "      <td>164.30</td>\n",
              "      <td>155.42</td>\n",
              "      <td>159.860</td>\n",
              "    </tr>\n",
              "    <tr>\n",
              "      <th>195</th>\n",
              "      <td>Papua New Guinea</td>\n",
              "      <td>163.10</td>\n",
              "      <td>156.89</td>\n",
              "      <td>159.995</td>\n",
              "    </tr>\n",
              "    <tr>\n",
              "      <th>196</th>\n",
              "      <td>Solomon Islands</td>\n",
              "      <td>163.07</td>\n",
              "      <td>156.79</td>\n",
              "      <td>159.930</td>\n",
              "    </tr>\n",
              "    <tr>\n",
              "      <th>197</th>\n",
              "      <td>Laos</td>\n",
              "      <td>162.78</td>\n",
              "      <td>153.10</td>\n",
              "      <td>157.940</td>\n",
              "    </tr>\n",
              "    <tr>\n",
              "      <th>198</th>\n",
              "      <td>Timor-Leste</td>\n",
              "      <td>160.13</td>\n",
              "      <td>152.71</td>\n",
              "      <td>156.420</td>\n",
              "    </tr>\n",
              "  </tbody>\n",
              "</table>\n",
              "<p>199 rows × 4 columns</p>\n",
              "</div>\n",
              "      <button class=\"colab-df-convert\" onclick=\"convertToInteractive('df-0b320364-54cf-4463-a18f-45029f606a05')\"\n",
              "              title=\"Convert this dataframe to an interactive table.\"\n",
              "              style=\"display:none;\">\n",
              "        \n",
              "  <svg xmlns=\"http://www.w3.org/2000/svg\" height=\"24px\"viewBox=\"0 0 24 24\"\n",
              "       width=\"24px\">\n",
              "    <path d=\"M0 0h24v24H0V0z\" fill=\"none\"/>\n",
              "    <path d=\"M18.56 5.44l.94 2.06.94-2.06 2.06-.94-2.06-.94-.94-2.06-.94 2.06-2.06.94zm-11 1L8.5 8.5l.94-2.06 2.06-.94-2.06-.94L8.5 2.5l-.94 2.06-2.06.94zm10 10l.94 2.06.94-2.06 2.06-.94-2.06-.94-.94-2.06-.94 2.06-2.06.94z\"/><path d=\"M17.41 7.96l-1.37-1.37c-.4-.4-.92-.59-1.43-.59-.52 0-1.04.2-1.43.59L10.3 9.45l-7.72 7.72c-.78.78-.78 2.05 0 2.83L4 21.41c.39.39.9.59 1.41.59.51 0 1.02-.2 1.41-.59l7.78-7.78 2.81-2.81c.8-.78.8-2.07 0-2.86zM5.41 20L4 18.59l7.72-7.72 1.47 1.35L5.41 20z\"/>\n",
              "  </svg>\n",
              "      </button>\n",
              "      \n",
              "  <style>\n",
              "    .colab-df-container {\n",
              "      display:flex;\n",
              "      flex-wrap:wrap;\n",
              "      gap: 12px;\n",
              "    }\n",
              "\n",
              "    .colab-df-convert {\n",
              "      background-color: #E8F0FE;\n",
              "      border: none;\n",
              "      border-radius: 50%;\n",
              "      cursor: pointer;\n",
              "      display: none;\n",
              "      fill: #1967D2;\n",
              "      height: 32px;\n",
              "      padding: 0 0 0 0;\n",
              "      width: 32px;\n",
              "    }\n",
              "\n",
              "    .colab-df-convert:hover {\n",
              "      background-color: #E2EBFA;\n",
              "      box-shadow: 0px 1px 2px rgba(60, 64, 67, 0.3), 0px 1px 3px 1px rgba(60, 64, 67, 0.15);\n",
              "      fill: #174EA6;\n",
              "    }\n",
              "\n",
              "    [theme=dark] .colab-df-convert {\n",
              "      background-color: #3B4455;\n",
              "      fill: #D2E3FC;\n",
              "    }\n",
              "\n",
              "    [theme=dark] .colab-df-convert:hover {\n",
              "      background-color: #434B5C;\n",
              "      box-shadow: 0px 1px 3px 1px rgba(0, 0, 0, 0.15);\n",
              "      filter: drop-shadow(0px 1px 2px rgba(0, 0, 0, 0.3));\n",
              "      fill: #FFFFFF;\n",
              "    }\n",
              "  </style>\n",
              "\n",
              "      <script>\n",
              "        const buttonEl =\n",
              "          document.querySelector('#df-0b320364-54cf-4463-a18f-45029f606a05 button.colab-df-convert');\n",
              "        buttonEl.style.display =\n",
              "          google.colab.kernel.accessAllowed ? 'block' : 'none';\n",
              "\n",
              "        async function convertToInteractive(key) {\n",
              "          const element = document.querySelector('#df-0b320364-54cf-4463-a18f-45029f606a05');\n",
              "          const dataTable =\n",
              "            await google.colab.kernel.invokeFunction('convertToInteractive',\n",
              "                                                     [key], {});\n",
              "          if (!dataTable) return;\n",
              "\n",
              "          const docLinkHtml = 'Like what you see? Visit the ' +\n",
              "            '<a target=\"_blank\" href=https://colab.research.google.com/notebooks/data_table.ipynb>data table notebook</a>'\n",
              "            + ' to learn more about interactive tables.';\n",
              "          element.innerHTML = '';\n",
              "          dataTable['output_type'] = 'display_data';\n",
              "          await google.colab.output.renderOutput(dataTable, element);\n",
              "          const docLink = document.createElement('div');\n",
              "          docLink.innerHTML = docLinkHtml;\n",
              "          element.appendChild(docLink);\n",
              "        }\n",
              "      </script>\n",
              "    </div>\n",
              "  </div>\n",
              "  "
            ]
          },
          "metadata": {},
          "execution_count": 10
        }
      ]
    },
    {
      "cell_type": "code",
      "source": [
        ""
      ],
      "metadata": {
        "id": "j9gGd7eLzrZC"
      },
      "execution_count": null,
      "outputs": []
    },
    {
      "cell_type": "code",
      "source": [
        "height.info()"
      ],
      "metadata": {
        "colab": {
          "base_uri": "https://localhost:8080/"
        },
        "id": "zKSrktnozJG4",
        "outputId": "9f154b83-2279-4092-b7c1-a7f1c6b326db"
      },
      "execution_count": 11,
      "outputs": [
        {
          "output_type": "stream",
          "name": "stdout",
          "text": [
            "<class 'pandas.core.frame.DataFrame'>\n",
            "RangeIndex: 199 entries, 0 to 198\n",
            "Data columns (total 7 columns):\n",
            " #   Column               Non-Null Count  Dtype  \n",
            "---  ------               --------------  -----  \n",
            " 0   Rank                 199 non-null    int64  \n",
            " 1   Country Name         199 non-null    object \n",
            " 2   Male Height in Cm    199 non-null    float64\n",
            " 3   Female Height in Cm  199 non-null    float64\n",
            " 4   Male Height in Ft    199 non-null    float64\n",
            " 5   Female Height in Ft  199 non-null    float64\n",
            " 6   Mean Height          199 non-null    float64\n",
            "dtypes: float64(5), int64(1), object(1)\n",
            "memory usage: 11.0+ KB\n"
          ]
        }
      ]
    },
    {
      "cell_type": "code",
      "source": [
        "height.isnull().sum()"
      ],
      "metadata": {
        "colab": {
          "base_uri": "https://localhost:8080/"
        },
        "id": "KuJcI6Ftze6g",
        "outputId": "66797156-afc0-4257-ec5c-906fe482b236"
      },
      "execution_count": 12,
      "outputs": [
        {
          "output_type": "execute_result",
          "data": {
            "text/plain": [
              "Rank                   0\n",
              "Country Name           0\n",
              "Male Height in Cm      0\n",
              "Female Height in Cm    0\n",
              "Male Height in Ft      0\n",
              "Female Height in Ft    0\n",
              "Mean Height            0\n",
              "dtype: int64"
            ]
          },
          "metadata": {},
          "execution_count": 12
        }
      ]
    },
    {
      "cell_type": "code",
      "source": [
        "height.describe()"
      ],
      "metadata": {
        "colab": {
          "base_uri": "https://localhost:8080/",
          "height": 300
        },
        "id": "3Ez97Ddwzh3b",
        "outputId": "808ec4e1-0085-48a7-99dd-2ef47a7f9eb1"
      },
      "execution_count": 13,
      "outputs": [
        {
          "output_type": "execute_result",
          "data": {
            "text/plain": [
              "             Rank  Male Height in Cm  Female Height in Cm  Male Height in Ft  \\\n",
              "count  199.000000         199.000000           199.000000         199.000000   \n",
              "mean   100.000000         173.089045           160.942915           5.678794   \n",
              "std     57.590508           4.949832             4.076377           0.162510   \n",
              "min      1.000000         160.130000           150.910000           5.250000   \n",
              "25%     50.500000         169.490000           158.240000           5.560000   \n",
              "50%    100.000000         173.530000           160.620000           5.690000   \n",
              "75%    149.500000         176.510000           163.870000           5.790000   \n",
              "max    199.000000         183.780000           170.360000           6.030000   \n",
              "\n",
              "       Female Height in Ft  Mean Height  \n",
              "count           199.000000   199.000000  \n",
              "mean              5.280402   167.015980  \n",
              "std               0.133870     4.432794  \n",
              "min               4.950000   156.420000  \n",
              "25%               5.190000   163.892500  \n",
              "50%               5.270000   166.995000  \n",
              "75%               5.375000   170.355000  \n",
              "max               5.590000   177.070000  "
            ],
            "text/html": [
              "\n",
              "  <div id=\"df-63d0e385-95b3-4f9e-b1d2-ad8cde466ab7\">\n",
              "    <div class=\"colab-df-container\">\n",
              "      <div>\n",
              "<style scoped>\n",
              "    .dataframe tbody tr th:only-of-type {\n",
              "        vertical-align: middle;\n",
              "    }\n",
              "\n",
              "    .dataframe tbody tr th {\n",
              "        vertical-align: top;\n",
              "    }\n",
              "\n",
              "    .dataframe thead th {\n",
              "        text-align: right;\n",
              "    }\n",
              "</style>\n",
              "<table border=\"1\" class=\"dataframe\">\n",
              "  <thead>\n",
              "    <tr style=\"text-align: right;\">\n",
              "      <th></th>\n",
              "      <th>Rank</th>\n",
              "      <th>Male Height in Cm</th>\n",
              "      <th>Female Height in Cm</th>\n",
              "      <th>Male Height in Ft</th>\n",
              "      <th>Female Height in Ft</th>\n",
              "      <th>Mean Height</th>\n",
              "    </tr>\n",
              "  </thead>\n",
              "  <tbody>\n",
              "    <tr>\n",
              "      <th>count</th>\n",
              "      <td>199.000000</td>\n",
              "      <td>199.000000</td>\n",
              "      <td>199.000000</td>\n",
              "      <td>199.000000</td>\n",
              "      <td>199.000000</td>\n",
              "      <td>199.000000</td>\n",
              "    </tr>\n",
              "    <tr>\n",
              "      <th>mean</th>\n",
              "      <td>100.000000</td>\n",
              "      <td>173.089045</td>\n",
              "      <td>160.942915</td>\n",
              "      <td>5.678794</td>\n",
              "      <td>5.280402</td>\n",
              "      <td>167.015980</td>\n",
              "    </tr>\n",
              "    <tr>\n",
              "      <th>std</th>\n",
              "      <td>57.590508</td>\n",
              "      <td>4.949832</td>\n",
              "      <td>4.076377</td>\n",
              "      <td>0.162510</td>\n",
              "      <td>0.133870</td>\n",
              "      <td>4.432794</td>\n",
              "    </tr>\n",
              "    <tr>\n",
              "      <th>min</th>\n",
              "      <td>1.000000</td>\n",
              "      <td>160.130000</td>\n",
              "      <td>150.910000</td>\n",
              "      <td>5.250000</td>\n",
              "      <td>4.950000</td>\n",
              "      <td>156.420000</td>\n",
              "    </tr>\n",
              "    <tr>\n",
              "      <th>25%</th>\n",
              "      <td>50.500000</td>\n",
              "      <td>169.490000</td>\n",
              "      <td>158.240000</td>\n",
              "      <td>5.560000</td>\n",
              "      <td>5.190000</td>\n",
              "      <td>163.892500</td>\n",
              "    </tr>\n",
              "    <tr>\n",
              "      <th>50%</th>\n",
              "      <td>100.000000</td>\n",
              "      <td>173.530000</td>\n",
              "      <td>160.620000</td>\n",
              "      <td>5.690000</td>\n",
              "      <td>5.270000</td>\n",
              "      <td>166.995000</td>\n",
              "    </tr>\n",
              "    <tr>\n",
              "      <th>75%</th>\n",
              "      <td>149.500000</td>\n",
              "      <td>176.510000</td>\n",
              "      <td>163.870000</td>\n",
              "      <td>5.790000</td>\n",
              "      <td>5.375000</td>\n",
              "      <td>170.355000</td>\n",
              "    </tr>\n",
              "    <tr>\n",
              "      <th>max</th>\n",
              "      <td>199.000000</td>\n",
              "      <td>183.780000</td>\n",
              "      <td>170.360000</td>\n",
              "      <td>6.030000</td>\n",
              "      <td>5.590000</td>\n",
              "      <td>177.070000</td>\n",
              "    </tr>\n",
              "  </tbody>\n",
              "</table>\n",
              "</div>\n",
              "      <button class=\"colab-df-convert\" onclick=\"convertToInteractive('df-63d0e385-95b3-4f9e-b1d2-ad8cde466ab7')\"\n",
              "              title=\"Convert this dataframe to an interactive table.\"\n",
              "              style=\"display:none;\">\n",
              "        \n",
              "  <svg xmlns=\"http://www.w3.org/2000/svg\" height=\"24px\"viewBox=\"0 0 24 24\"\n",
              "       width=\"24px\">\n",
              "    <path d=\"M0 0h24v24H0V0z\" fill=\"none\"/>\n",
              "    <path d=\"M18.56 5.44l.94 2.06.94-2.06 2.06-.94-2.06-.94-.94-2.06-.94 2.06-2.06.94zm-11 1L8.5 8.5l.94-2.06 2.06-.94-2.06-.94L8.5 2.5l-.94 2.06-2.06.94zm10 10l.94 2.06.94-2.06 2.06-.94-2.06-.94-.94-2.06-.94 2.06-2.06.94z\"/><path d=\"M17.41 7.96l-1.37-1.37c-.4-.4-.92-.59-1.43-.59-.52 0-1.04.2-1.43.59L10.3 9.45l-7.72 7.72c-.78.78-.78 2.05 0 2.83L4 21.41c.39.39.9.59 1.41.59.51 0 1.02-.2 1.41-.59l7.78-7.78 2.81-2.81c.8-.78.8-2.07 0-2.86zM5.41 20L4 18.59l7.72-7.72 1.47 1.35L5.41 20z\"/>\n",
              "  </svg>\n",
              "      </button>\n",
              "      \n",
              "  <style>\n",
              "    .colab-df-container {\n",
              "      display:flex;\n",
              "      flex-wrap:wrap;\n",
              "      gap: 12px;\n",
              "    }\n",
              "\n",
              "    .colab-df-convert {\n",
              "      background-color: #E8F0FE;\n",
              "      border: none;\n",
              "      border-radius: 50%;\n",
              "      cursor: pointer;\n",
              "      display: none;\n",
              "      fill: #1967D2;\n",
              "      height: 32px;\n",
              "      padding: 0 0 0 0;\n",
              "      width: 32px;\n",
              "    }\n",
              "\n",
              "    .colab-df-convert:hover {\n",
              "      background-color: #E2EBFA;\n",
              "      box-shadow: 0px 1px 2px rgba(60, 64, 67, 0.3), 0px 1px 3px 1px rgba(60, 64, 67, 0.15);\n",
              "      fill: #174EA6;\n",
              "    }\n",
              "\n",
              "    [theme=dark] .colab-df-convert {\n",
              "      background-color: #3B4455;\n",
              "      fill: #D2E3FC;\n",
              "    }\n",
              "\n",
              "    [theme=dark] .colab-df-convert:hover {\n",
              "      background-color: #434B5C;\n",
              "      box-shadow: 0px 1px 3px 1px rgba(0, 0, 0, 0.15);\n",
              "      filter: drop-shadow(0px 1px 2px rgba(0, 0, 0, 0.3));\n",
              "      fill: #FFFFFF;\n",
              "    }\n",
              "  </style>\n",
              "\n",
              "      <script>\n",
              "        const buttonEl =\n",
              "          document.querySelector('#df-63d0e385-95b3-4f9e-b1d2-ad8cde466ab7 button.colab-df-convert');\n",
              "        buttonEl.style.display =\n",
              "          google.colab.kernel.accessAllowed ? 'block' : 'none';\n",
              "\n",
              "        async function convertToInteractive(key) {\n",
              "          const element = document.querySelector('#df-63d0e385-95b3-4f9e-b1d2-ad8cde466ab7');\n",
              "          const dataTable =\n",
              "            await google.colab.kernel.invokeFunction('convertToInteractive',\n",
              "                                                     [key], {});\n",
              "          if (!dataTable) return;\n",
              "\n",
              "          const docLinkHtml = 'Like what you see? Visit the ' +\n",
              "            '<a target=\"_blank\" href=https://colab.research.google.com/notebooks/data_table.ipynb>data table notebook</a>'\n",
              "            + ' to learn more about interactive tables.';\n",
              "          element.innerHTML = '';\n",
              "          dataTable['output_type'] = 'display_data';\n",
              "          await google.colab.output.renderOutput(dataTable, element);\n",
              "          const docLink = document.createElement('div');\n",
              "          docLink.innerHTML = docLinkHtml;\n",
              "          element.appendChild(docLink);\n",
              "        }\n",
              "      </script>\n",
              "    </div>\n",
              "  </div>\n",
              "  "
            ]
          },
          "metadata": {},
          "execution_count": 13
        }
      ]
    },
    {
      "cell_type": "code",
      "source": [
        "fig = px.bar(height, x=\"Country Name\", y=\"Male Height in Cm\", color=\"Male Height in Cm\", title=\"Male Height by Country (cm)\")\n",
        "fig.show()"
      ],
      "metadata": {
        "colab": {
          "base_uri": "https://localhost:8080/",
          "height": 542
        },
        "id": "3q9fwkeKz8gt",
        "outputId": "df67219b-90e9-4b1f-9bb5-51d0e2263158"
      },
      "execution_count": 14,
      "outputs": [
        {
          "output_type": "display_data",
          "data": {
            "text/html": [
              "<html>\n",
              "<head><meta charset=\"utf-8\" /></head>\n",
              "<body>\n",
              "    <div>            <script src=\"https://cdnjs.cloudflare.com/ajax/libs/mathjax/2.7.5/MathJax.js?config=TeX-AMS-MML_SVG\"></script><script type=\"text/javascript\">if (window.MathJax) {MathJax.Hub.Config({SVG: {font: \"STIX-Web\"}});}</script>                <script type=\"text/javascript\">window.PlotlyConfig = {MathJaxConfig: 'local'};</script>\n",
              "        <script src=\"https://cdn.plot.ly/plotly-2.8.3.min.js\"></script>                <div id=\"b093b5fb-16d1-4691-803c-c11edb397de4\" class=\"plotly-graph-div\" style=\"height:525px; width:100%;\"></div>            <script type=\"text/javascript\">                                    window.PLOTLYENV=window.PLOTLYENV || {};                                    if (document.getElementById(\"b093b5fb-16d1-4691-803c-c11edb397de4\")) {                    Plotly.newPlot(                        \"b093b5fb-16d1-4691-803c-c11edb397de4\",                        [{\"alignmentgroup\":\"True\",\"hovertemplate\":\"Country Name=%{x}<br>Male Height in Cm=%{marker.color}<extra></extra>\",\"legendgroup\":\"\",\"marker\":{\"color\":[183.78,183.3,182.79,182.47,182.1,181.89,181.19,181.17,181.02,180.98,180.98,180.76,180.74,180.72,180.69,180.57,180.48,180.46,180.28,180.15,179.72,179.48,179.26,179.09,179.04,178.96,178.84,178.84,178.77,178.75,178.73,178.7,178.69,178.6,178.52,178.46,178.32,178.32,178.21,177.82,177.72,177.49,177.19,177.09,177.03,176.97,176.94,176.85,176.65,176.59,176.43,176.43,176.39,176.36,176.35,176.18,176.11,176.06,176.03,175.98,175.98,175.9,175.73,175.66,175.62,175.59,175.52,175.5,175.11,175.05,175.04,175.02,174.96,174.84,174.83,174.76,174.69,174.65,174.57,174.51,174.42,174.42,174.4,174.38,174.37,174.37,174.32,174.17,174.08,174.07,174.04,174.0,173.98,173.84,173.81,173.79,173.71,173.67,173.56,173.53,173.53,173.5,173.27,173.16,173.01,172.88,172.76,172.75,172.23,172.15,172.13,172.07,172.06,171.89,171.85,171.84,171.7,171.66,171.64,171.61,171.55,171.3,171.23,171.22,170.94,170.77,170.7,170.69,170.67,170.67,170.67,170.62,170.6,170.52,170.48,170.46,170.37,170.3,170.29,170.26,170.19,170.14,170.09,169.91,169.75,169.63,169.59,169.57,169.57,169.41,169.2,169.01,168.89,168.84,168.74,168.6,168.5,168.46,168.44,168.43,168.36,168.29,168.23,168.18,168.17,168.1,168.07,167.92,167.87,167.72,167.62,167.34,167.33,167.32,167.05,166.98,166.75,166.7,166.5,166.43,166.31,166.26,166.02,165.68,165.54,165.48,165.35,165.26,165.23,165.16,165.08,164.42,164.36,164.36,164.3,163.1,163.07,162.78,160.13],\"coloraxis\":\"coloraxis\",\"pattern\":{\"shape\":\"\"}},\"name\":\"\",\"offsetgroup\":\"\",\"orientation\":\"v\",\"showlegend\":false,\"textposition\":\"auto\",\"x\":[\"Netherlands\",\"Montenegro\",\"Estonia\",\"Bosnia and Herzegovina\",\"Iceland\",\"Denmark\",\"Czech Republic\",\"Latvia\",\"Slovakia\",\"Slovenia\",\"Ukraine\",\"Croatia\",\"Serbia\",\"Lithuania\",\"Poland\",\"Finland\",\"Norway\",\"Sweden\",\"Germany\",\"Dominica\",\"Bermuda\",\"Puerto Rico\",\"Greece\",\"Belgium\",\"Ireland\",\"Lebanon\",\"Andorra\",\"Antigua and Barbuda\",\"Australia\",\"Canada\",\"Switzerland\",\"Grenada\",\"Belarus\",\"France\",\"Austria\",\"Luxembourg\",\"Cook Islands\",\"French Polynesia\",\"United Kingdom\",\"Romania\",\"New Zealand\",\"Saint Vincent and the Grenadines\",\"Niue\",\"American Samoa\",\"Barbados\",\"Jamaica\",\"United States\",\"Tunisia\",\"Russia\",\"Hungary\",\"Saint Lucia\",\"North Macedonia\",\"Libya\",\"Turkey\",\"Morocco\",\"Senegal\",\"Spain\",\"Tokelau\",\"Trinidad and Tobago\",\"Israel\",\"Georgia\",\"Seychelles\",\"Brazil\",\"China\",\"Iran\",\"Moldova\",\"South Korea\",\"Kazakhstan\",\"Tonga\",\"Palestine\",\"Algeria\",\"Mali\",\"Kuwait\",\"Jordan\",\"Hong Kong\",\"Argentina\",\"North Korea\",\"Dominican Republic\",\"Egypt\",\"Suriname\",\"Italy\",\"Samoa\",\"Bahamas\",\"Malta\",\"Turkmenistan\",\"Portugal\",\"Uruguay\",\"Bulgaria\",\"United Arab Emirates\",\"Albania\",\"Costa Rica\",\"Azerbaijan\",\"Fiji\",\"Greenland\",\"Paraguay\",\"Iraq\",\"Saint Kitts and Nevis\",\"Armenia\",\"Cuba\",\"Venezuela\",\"Taiwan\",\"Singapore\",\"Qatar\",\"Botswana\",\"Mauritius\",\"Chile\",\"Bahrain\",\"Cyprus\",\"Haiti\",\"Guyana\",\"Cameroon\",\"Sudan\",\"Japan\",\"Burkina Faso\",\"Colombia\",\"Chad\",\"Oman\",\"Kyrgyzstan\",\"Syria\",\"Thailand\",\"Nigeria\",\"Tuvalu\",\"Republic of the Congo\",\"Somalia\",\"Uzbekistan\",\"Djibouti\",\"Guinea\",\"Zimbabwe\",\"Mongolia\",\"El Salvador\",\"Saudi Arabia\",\"Palau\",\"Eritrea\",\"Belize\",\"Gabon\",\"Kenya\",\"Sao Tome and Principe\",\"Ghana\",\"Mexico\",\"Niger\",\"Panama\",\"Togo\",\"Kiribati\",\"Nicaragua\",\"Namibia\",\"South Africa\",\"Honduras\",\"Micronesia\",\"Nauru\",\"Eswatini\",\"Malaysia\",\"Central African Republic\",\"Vietnam\",\"Ethiopia\",\"Uganda\",\"DR Congo\",\"Afghanistan\",\"Angola\",\"Benin\",\"Tajikistan\",\"Gambia\",\"Vanuatu\",\"Ivory Coast\",\"Equatorial Guinea\",\"Guinea-Bissau\",\"Bolivia\",\"Sri Lanka\",\"Lesotho\",\"Maldives\",\"Comoros\",\"Zambia\",\"Burundi\",\"Pakistan\",\"Ecuador\",\"Bhutan\",\"Tanzania\",\"Peru\",\"Myanmar\",\"India\",\"Sierra Leone\",\"Brunei\",\"Indonesia\",\"Rwanda\",\"Malawi\",\"Mauritania\",\"Liberia\",\"Cambodia\",\"Marshall Islands\",\"Philippines\",\"Madagascar\",\"Bangladesh\",\"Yemen\",\"Nepal\",\"Guatemala\",\"Mozambique\",\"Papua New Guinea\",\"Solomon Islands\",\"Laos\",\"Timor-Leste\"],\"xaxis\":\"x\",\"y\":[183.78,183.3,182.79,182.47,182.1,181.89,181.19,181.17,181.02,180.98,180.98,180.76,180.74,180.72,180.69,180.57,180.48,180.46,180.28,180.15,179.72,179.48,179.26,179.09,179.04,178.96,178.84,178.84,178.77,178.75,178.73,178.7,178.69,178.6,178.52,178.46,178.32,178.32,178.21,177.82,177.72,177.49,177.19,177.09,177.03,176.97,176.94,176.85,176.65,176.59,176.43,176.43,176.39,176.36,176.35,176.18,176.11,176.06,176.03,175.98,175.98,175.9,175.73,175.66,175.62,175.59,175.52,175.5,175.11,175.05,175.04,175.02,174.96,174.84,174.83,174.76,174.69,174.65,174.57,174.51,174.42,174.42,174.4,174.38,174.37,174.37,174.32,174.17,174.08,174.07,174.04,174.0,173.98,173.84,173.81,173.79,173.71,173.67,173.56,173.53,173.53,173.5,173.27,173.16,173.01,172.88,172.76,172.75,172.23,172.15,172.13,172.07,172.06,171.89,171.85,171.84,171.7,171.66,171.64,171.61,171.55,171.3,171.23,171.22,170.94,170.77,170.7,170.69,170.67,170.67,170.67,170.62,170.6,170.52,170.48,170.46,170.37,170.3,170.29,170.26,170.19,170.14,170.09,169.91,169.75,169.63,169.59,169.57,169.57,169.41,169.2,169.01,168.89,168.84,168.74,168.6,168.5,168.46,168.44,168.43,168.36,168.29,168.23,168.18,168.17,168.1,168.07,167.92,167.87,167.72,167.62,167.34,167.33,167.32,167.05,166.98,166.75,166.7,166.5,166.43,166.31,166.26,166.02,165.68,165.54,165.48,165.35,165.26,165.23,165.16,165.08,164.42,164.36,164.36,164.3,163.1,163.07,162.78,160.13],\"yaxis\":\"y\",\"type\":\"bar\"}],                        {\"template\":{\"data\":{\"bar\":[{\"error_x\":{\"color\":\"#2a3f5f\"},\"error_y\":{\"color\":\"#2a3f5f\"},\"marker\":{\"line\":{\"color\":\"#E5ECF6\",\"width\":0.5},\"pattern\":{\"fillmode\":\"overlay\",\"size\":10,\"solidity\":0.2}},\"type\":\"bar\"}],\"barpolar\":[{\"marker\":{\"line\":{\"color\":\"#E5ECF6\",\"width\":0.5},\"pattern\":{\"fillmode\":\"overlay\",\"size\":10,\"solidity\":0.2}},\"type\":\"barpolar\"}],\"carpet\":[{\"aaxis\":{\"endlinecolor\":\"#2a3f5f\",\"gridcolor\":\"white\",\"linecolor\":\"white\",\"minorgridcolor\":\"white\",\"startlinecolor\":\"#2a3f5f\"},\"baxis\":{\"endlinecolor\":\"#2a3f5f\",\"gridcolor\":\"white\",\"linecolor\":\"white\",\"minorgridcolor\":\"white\",\"startlinecolor\":\"#2a3f5f\"},\"type\":\"carpet\"}],\"choropleth\":[{\"colorbar\":{\"outlinewidth\":0,\"ticks\":\"\"},\"type\":\"choropleth\"}],\"contour\":[{\"colorbar\":{\"outlinewidth\":0,\"ticks\":\"\"},\"colorscale\":[[0.0,\"#0d0887\"],[0.1111111111111111,\"#46039f\"],[0.2222222222222222,\"#7201a8\"],[0.3333333333333333,\"#9c179e\"],[0.4444444444444444,\"#bd3786\"],[0.5555555555555556,\"#d8576b\"],[0.6666666666666666,\"#ed7953\"],[0.7777777777777778,\"#fb9f3a\"],[0.8888888888888888,\"#fdca26\"],[1.0,\"#f0f921\"]],\"type\":\"contour\"}],\"contourcarpet\":[{\"colorbar\":{\"outlinewidth\":0,\"ticks\":\"\"},\"type\":\"contourcarpet\"}],\"heatmap\":[{\"colorbar\":{\"outlinewidth\":0,\"ticks\":\"\"},\"colorscale\":[[0.0,\"#0d0887\"],[0.1111111111111111,\"#46039f\"],[0.2222222222222222,\"#7201a8\"],[0.3333333333333333,\"#9c179e\"],[0.4444444444444444,\"#bd3786\"],[0.5555555555555556,\"#d8576b\"],[0.6666666666666666,\"#ed7953\"],[0.7777777777777778,\"#fb9f3a\"],[0.8888888888888888,\"#fdca26\"],[1.0,\"#f0f921\"]],\"type\":\"heatmap\"}],\"heatmapgl\":[{\"colorbar\":{\"outlinewidth\":0,\"ticks\":\"\"},\"colorscale\":[[0.0,\"#0d0887\"],[0.1111111111111111,\"#46039f\"],[0.2222222222222222,\"#7201a8\"],[0.3333333333333333,\"#9c179e\"],[0.4444444444444444,\"#bd3786\"],[0.5555555555555556,\"#d8576b\"],[0.6666666666666666,\"#ed7953\"],[0.7777777777777778,\"#fb9f3a\"],[0.8888888888888888,\"#fdca26\"],[1.0,\"#f0f921\"]],\"type\":\"heatmapgl\"}],\"histogram\":[{\"marker\":{\"pattern\":{\"fillmode\":\"overlay\",\"size\":10,\"solidity\":0.2}},\"type\":\"histogram\"}],\"histogram2d\":[{\"colorbar\":{\"outlinewidth\":0,\"ticks\":\"\"},\"colorscale\":[[0.0,\"#0d0887\"],[0.1111111111111111,\"#46039f\"],[0.2222222222222222,\"#7201a8\"],[0.3333333333333333,\"#9c179e\"],[0.4444444444444444,\"#bd3786\"],[0.5555555555555556,\"#d8576b\"],[0.6666666666666666,\"#ed7953\"],[0.7777777777777778,\"#fb9f3a\"],[0.8888888888888888,\"#fdca26\"],[1.0,\"#f0f921\"]],\"type\":\"histogram2d\"}],\"histogram2dcontour\":[{\"colorbar\":{\"outlinewidth\":0,\"ticks\":\"\"},\"colorscale\":[[0.0,\"#0d0887\"],[0.1111111111111111,\"#46039f\"],[0.2222222222222222,\"#7201a8\"],[0.3333333333333333,\"#9c179e\"],[0.4444444444444444,\"#bd3786\"],[0.5555555555555556,\"#d8576b\"],[0.6666666666666666,\"#ed7953\"],[0.7777777777777778,\"#fb9f3a\"],[0.8888888888888888,\"#fdca26\"],[1.0,\"#f0f921\"]],\"type\":\"histogram2dcontour\"}],\"mesh3d\":[{\"colorbar\":{\"outlinewidth\":0,\"ticks\":\"\"},\"type\":\"mesh3d\"}],\"parcoords\":[{\"line\":{\"colorbar\":{\"outlinewidth\":0,\"ticks\":\"\"}},\"type\":\"parcoords\"}],\"pie\":[{\"automargin\":true,\"type\":\"pie\"}],\"scatter\":[{\"marker\":{\"colorbar\":{\"outlinewidth\":0,\"ticks\":\"\"}},\"type\":\"scatter\"}],\"scatter3d\":[{\"line\":{\"colorbar\":{\"outlinewidth\":0,\"ticks\":\"\"}},\"marker\":{\"colorbar\":{\"outlinewidth\":0,\"ticks\":\"\"}},\"type\":\"scatter3d\"}],\"scattercarpet\":[{\"marker\":{\"colorbar\":{\"outlinewidth\":0,\"ticks\":\"\"}},\"type\":\"scattercarpet\"}],\"scattergeo\":[{\"marker\":{\"colorbar\":{\"outlinewidth\":0,\"ticks\":\"\"}},\"type\":\"scattergeo\"}],\"scattergl\":[{\"marker\":{\"colorbar\":{\"outlinewidth\":0,\"ticks\":\"\"}},\"type\":\"scattergl\"}],\"scattermapbox\":[{\"marker\":{\"colorbar\":{\"outlinewidth\":0,\"ticks\":\"\"}},\"type\":\"scattermapbox\"}],\"scatterpolar\":[{\"marker\":{\"colorbar\":{\"outlinewidth\":0,\"ticks\":\"\"}},\"type\":\"scatterpolar\"}],\"scatterpolargl\":[{\"marker\":{\"colorbar\":{\"outlinewidth\":0,\"ticks\":\"\"}},\"type\":\"scatterpolargl\"}],\"scatterternary\":[{\"marker\":{\"colorbar\":{\"outlinewidth\":0,\"ticks\":\"\"}},\"type\":\"scatterternary\"}],\"surface\":[{\"colorbar\":{\"outlinewidth\":0,\"ticks\":\"\"},\"colorscale\":[[0.0,\"#0d0887\"],[0.1111111111111111,\"#46039f\"],[0.2222222222222222,\"#7201a8\"],[0.3333333333333333,\"#9c179e\"],[0.4444444444444444,\"#bd3786\"],[0.5555555555555556,\"#d8576b\"],[0.6666666666666666,\"#ed7953\"],[0.7777777777777778,\"#fb9f3a\"],[0.8888888888888888,\"#fdca26\"],[1.0,\"#f0f921\"]],\"type\":\"surface\"}],\"table\":[{\"cells\":{\"fill\":{\"color\":\"#EBF0F8\"},\"line\":{\"color\":\"white\"}},\"header\":{\"fill\":{\"color\":\"#C8D4E3\"},\"line\":{\"color\":\"white\"}},\"type\":\"table\"}]},\"layout\":{\"annotationdefaults\":{\"arrowcolor\":\"#2a3f5f\",\"arrowhead\":0,\"arrowwidth\":1},\"autotypenumbers\":\"strict\",\"coloraxis\":{\"colorbar\":{\"outlinewidth\":0,\"ticks\":\"\"}},\"colorscale\":{\"diverging\":[[0,\"#8e0152\"],[0.1,\"#c51b7d\"],[0.2,\"#de77ae\"],[0.3,\"#f1b6da\"],[0.4,\"#fde0ef\"],[0.5,\"#f7f7f7\"],[0.6,\"#e6f5d0\"],[0.7,\"#b8e186\"],[0.8,\"#7fbc41\"],[0.9,\"#4d9221\"],[1,\"#276419\"]],\"sequential\":[[0.0,\"#0d0887\"],[0.1111111111111111,\"#46039f\"],[0.2222222222222222,\"#7201a8\"],[0.3333333333333333,\"#9c179e\"],[0.4444444444444444,\"#bd3786\"],[0.5555555555555556,\"#d8576b\"],[0.6666666666666666,\"#ed7953\"],[0.7777777777777778,\"#fb9f3a\"],[0.8888888888888888,\"#fdca26\"],[1.0,\"#f0f921\"]],\"sequentialminus\":[[0.0,\"#0d0887\"],[0.1111111111111111,\"#46039f\"],[0.2222222222222222,\"#7201a8\"],[0.3333333333333333,\"#9c179e\"],[0.4444444444444444,\"#bd3786\"],[0.5555555555555556,\"#d8576b\"],[0.6666666666666666,\"#ed7953\"],[0.7777777777777778,\"#fb9f3a\"],[0.8888888888888888,\"#fdca26\"],[1.0,\"#f0f921\"]]},\"colorway\":[\"#636efa\",\"#EF553B\",\"#00cc96\",\"#ab63fa\",\"#FFA15A\",\"#19d3f3\",\"#FF6692\",\"#B6E880\",\"#FF97FF\",\"#FECB52\"],\"font\":{\"color\":\"#2a3f5f\"},\"geo\":{\"bgcolor\":\"white\",\"lakecolor\":\"white\",\"landcolor\":\"#E5ECF6\",\"showlakes\":true,\"showland\":true,\"subunitcolor\":\"white\"},\"hoverlabel\":{\"align\":\"left\"},\"hovermode\":\"closest\",\"mapbox\":{\"style\":\"light\"},\"paper_bgcolor\":\"white\",\"plot_bgcolor\":\"#E5ECF6\",\"polar\":{\"angularaxis\":{\"gridcolor\":\"white\",\"linecolor\":\"white\",\"ticks\":\"\"},\"bgcolor\":\"#E5ECF6\",\"radialaxis\":{\"gridcolor\":\"white\",\"linecolor\":\"white\",\"ticks\":\"\"}},\"scene\":{\"xaxis\":{\"backgroundcolor\":\"#E5ECF6\",\"gridcolor\":\"white\",\"gridwidth\":2,\"linecolor\":\"white\",\"showbackground\":true,\"ticks\":\"\",\"zerolinecolor\":\"white\"},\"yaxis\":{\"backgroundcolor\":\"#E5ECF6\",\"gridcolor\":\"white\",\"gridwidth\":2,\"linecolor\":\"white\",\"showbackground\":true,\"ticks\":\"\",\"zerolinecolor\":\"white\"},\"zaxis\":{\"backgroundcolor\":\"#E5ECF6\",\"gridcolor\":\"white\",\"gridwidth\":2,\"linecolor\":\"white\",\"showbackground\":true,\"ticks\":\"\",\"zerolinecolor\":\"white\"}},\"shapedefaults\":{\"line\":{\"color\":\"#2a3f5f\"}},\"ternary\":{\"aaxis\":{\"gridcolor\":\"white\",\"linecolor\":\"white\",\"ticks\":\"\"},\"baxis\":{\"gridcolor\":\"white\",\"linecolor\":\"white\",\"ticks\":\"\"},\"bgcolor\":\"#E5ECF6\",\"caxis\":{\"gridcolor\":\"white\",\"linecolor\":\"white\",\"ticks\":\"\"}},\"title\":{\"x\":0.05},\"xaxis\":{\"automargin\":true,\"gridcolor\":\"white\",\"linecolor\":\"white\",\"ticks\":\"\",\"title\":{\"standoff\":15},\"zerolinecolor\":\"white\",\"zerolinewidth\":2},\"yaxis\":{\"automargin\":true,\"gridcolor\":\"white\",\"linecolor\":\"white\",\"ticks\":\"\",\"title\":{\"standoff\":15},\"zerolinecolor\":\"white\",\"zerolinewidth\":2}}},\"xaxis\":{\"anchor\":\"y\",\"domain\":[0.0,1.0],\"title\":{\"text\":\"Country Name\"}},\"yaxis\":{\"anchor\":\"x\",\"domain\":[0.0,1.0],\"title\":{\"text\":\"Male Height in Cm\"}},\"coloraxis\":{\"colorbar\":{\"title\":{\"text\":\"Male Height in Cm\"}},\"colorscale\":[[0.0,\"#0d0887\"],[0.1111111111111111,\"#46039f\"],[0.2222222222222222,\"#7201a8\"],[0.3333333333333333,\"#9c179e\"],[0.4444444444444444,\"#bd3786\"],[0.5555555555555556,\"#d8576b\"],[0.6666666666666666,\"#ed7953\"],[0.7777777777777778,\"#fb9f3a\"],[0.8888888888888888,\"#fdca26\"],[1.0,\"#f0f921\"]]},\"legend\":{\"tracegroupgap\":0},\"title\":{\"text\":\"Male Height by Country (cm)\"},\"barmode\":\"relative\"},                        {\"responsive\": true}                    ).then(function(){\n",
              "                            \n",
              "var gd = document.getElementById('b093b5fb-16d1-4691-803c-c11edb397de4');\n",
              "var x = new MutationObserver(function (mutations, observer) {{\n",
              "        var display = window.getComputedStyle(gd).display;\n",
              "        if (!display || display === 'none') {{\n",
              "            console.log([gd, 'removed!']);\n",
              "            Plotly.purge(gd);\n",
              "            observer.disconnect();\n",
              "        }}\n",
              "}});\n",
              "\n",
              "// Listen for the removal of the full notebook cells\n",
              "var notebookContainer = gd.closest('#notebook-container');\n",
              "if (notebookContainer) {{\n",
              "    x.observe(notebookContainer, {childList: true});\n",
              "}}\n",
              "\n",
              "// Listen for the clearing of the current output cell\n",
              "var outputEl = gd.closest('.output');\n",
              "if (outputEl) {{\n",
              "    x.observe(outputEl, {childList: true});\n",
              "}}\n",
              "\n",
              "                        })                };                            </script>        </div>\n",
              "</body>\n",
              "</html>"
            ]
          },
          "metadata": {}
        }
      ]
    },
    {
      "cell_type": "markdown",
      "source": [
        "We can know the male height from all the countries where dark blue tells us the shortest height and yellow tells us about highest male height from different countries."
      ],
      "metadata": {
        "id": "JmzphdFm2LOD"
      }
    },
    {
      "cell_type": "code",
      "source": [
        "fig = px.bar(height, x=\"Country Name\", y=\"Female Height in Cm\", color=\"Female Height in Cm\", title=\"Female Height by Country (cm)\")\n",
        "fig.show()"
      ],
      "metadata": {
        "colab": {
          "base_uri": "https://localhost:8080/",
          "height": 542
        },
        "id": "p3ModVb70I2k",
        "outputId": "490fc47f-d927-483a-a78c-8fb579d79bf3"
      },
      "execution_count": 15,
      "outputs": [
        {
          "output_type": "display_data",
          "data": {
            "text/html": [
              "<html>\n",
              "<head><meta charset=\"utf-8\" /></head>\n",
              "<body>\n",
              "    <div>            <script src=\"https://cdnjs.cloudflare.com/ajax/libs/mathjax/2.7.5/MathJax.js?config=TeX-AMS-MML_SVG\"></script><script type=\"text/javascript\">if (window.MathJax) {MathJax.Hub.Config({SVG: {font: \"STIX-Web\"}});}</script>                <script type=\"text/javascript\">window.PlotlyConfig = {MathJaxConfig: 'local'};</script>\n",
              "        <script src=\"https://cdn.plot.ly/plotly-2.8.3.min.js\"></script>                <div id=\"51e406fb-7a3a-484a-acd7-041139aea50c\" class=\"plotly-graph-div\" style=\"height:525px; width:100%;\"></div>            <script type=\"text/javascript\">                                    window.PLOTLYENV=window.PLOTLYENV || {};                                    if (document.getElementById(\"51e406fb-7a3a-484a-acd7-041139aea50c\")) {                    Plotly.newPlot(                        \"51e406fb-7a3a-484a-acd7-041139aea50c\",                        [{\"alignmentgroup\":\"True\",\"hovertemplate\":\"Country Name=%{x}<br>Female Height in Cm=%{marker.color}<extra></extra>\",\"legendgroup\":\"\",\"marker\":{\"color\":[170.36,169.96,168.66,167.47,168.91,169.47,167.96,168.81,167.12,167.2,166.62,166.8,168.29,167.63,165.78,166.48,166.45,166.67,166.18,166.89,166.11,163.06,165.81,163.4,164.5,163.67,165.53,165.72,164.67,164.73,164.33,165.99,166.93,164.49,166.93,165.07,167.31,166.52,163.94,164.73,164.66,165.3,167.03,167.55,165.66,164.32,163.31,161.69,164.52,162.55,165.52,160.88,162.56,161.8,161.18,163.92,162.03,166.08,163.38,162.22,163.24,162.47,162.41,163.46,161.18,162.96,163.23,161.74,166.08,161.28,162.35,161.99,160.1,159.46,160.62,161.22,161.22,161.21,160.88,162.26,161.81,163.82,163.46,162.95,162.83,161.23,161.56,164.58,160.53,162.23,160.36,161.37,164.28,161.4,159.76,158.75,162.78,159.85,160.13,160.04,160.7,161.3,160.72,162.06,158.94,159.42,158.29,160.55,160.58,159.57,160.41,160.36,158.5,161.33,157.96,162.12,158.44,160.2,159.38,159.42,158.14,163.57,158.78,159.86,160.29,159.82,158.75,159.85,159.89,156.39,158.84,159.52,157.58,158.12,160.05,159.43,159.81,158.86,157.9,159.81,158.19,159.13,161.04,155.62,160.26,158.58,155.18,159.66,157.82,158.92,157.06,159.65,158.43,157.15,158.53,156.3,156.11,158.1,158.4,158.12,161.73,160.48,158.65,158.05,158.72,155.58,155.88,156.72,154.28,156.54,157.32,155.08,154.77,155.25,155.15,156.89,154.39,154.71,155.18,157.34,154.9,154.36,156.72,156.14,160.06,156.54,154.75,154.76,154.14,153.06,152.38,154.76,152.39,150.91,155.42,156.89,156.79,153.1,152.71],\"coloraxis\":\"coloraxis\",\"pattern\":{\"shape\":\"\"}},\"name\":\"\",\"offsetgroup\":\"\",\"orientation\":\"v\",\"showlegend\":false,\"textposition\":\"auto\",\"x\":[\"Netherlands\",\"Montenegro\",\"Estonia\",\"Bosnia and Herzegovina\",\"Iceland\",\"Denmark\",\"Czech Republic\",\"Latvia\",\"Slovakia\",\"Slovenia\",\"Ukraine\",\"Croatia\",\"Serbia\",\"Lithuania\",\"Poland\",\"Finland\",\"Norway\",\"Sweden\",\"Germany\",\"Dominica\",\"Bermuda\",\"Puerto Rico\",\"Greece\",\"Belgium\",\"Ireland\",\"Lebanon\",\"Andorra\",\"Antigua and Barbuda\",\"Australia\",\"Canada\",\"Switzerland\",\"Grenada\",\"Belarus\",\"France\",\"Austria\",\"Luxembourg\",\"Cook Islands\",\"French Polynesia\",\"United Kingdom\",\"Romania\",\"New Zealand\",\"Saint Vincent and the Grenadines\",\"Niue\",\"American Samoa\",\"Barbados\",\"Jamaica\",\"United States\",\"Tunisia\",\"Russia\",\"Hungary\",\"Saint Lucia\",\"North Macedonia\",\"Libya\",\"Turkey\",\"Morocco\",\"Senegal\",\"Spain\",\"Tokelau\",\"Trinidad and Tobago\",\"Israel\",\"Georgia\",\"Seychelles\",\"Brazil\",\"China\",\"Iran\",\"Moldova\",\"South Korea\",\"Kazakhstan\",\"Tonga\",\"Palestine\",\"Algeria\",\"Mali\",\"Kuwait\",\"Jordan\",\"Hong Kong\",\"Argentina\",\"North Korea\",\"Dominican Republic\",\"Egypt\",\"Suriname\",\"Italy\",\"Samoa\",\"Bahamas\",\"Malta\",\"Turkmenistan\",\"Portugal\",\"Uruguay\",\"Bulgaria\",\"United Arab Emirates\",\"Albania\",\"Costa Rica\",\"Azerbaijan\",\"Fiji\",\"Greenland\",\"Paraguay\",\"Iraq\",\"Saint Kitts and Nevis\",\"Armenia\",\"Cuba\",\"Venezuela\",\"Taiwan\",\"Singapore\",\"Qatar\",\"Botswana\",\"Mauritius\",\"Chile\",\"Bahrain\",\"Cyprus\",\"Haiti\",\"Guyana\",\"Cameroon\",\"Sudan\",\"Japan\",\"Burkina Faso\",\"Colombia\",\"Chad\",\"Oman\",\"Kyrgyzstan\",\"Syria\",\"Thailand\",\"Nigeria\",\"Tuvalu\",\"Republic of the Congo\",\"Somalia\",\"Uzbekistan\",\"Djibouti\",\"Guinea\",\"Zimbabwe\",\"Mongolia\",\"El Salvador\",\"Saudi Arabia\",\"Palau\",\"Eritrea\",\"Belize\",\"Gabon\",\"Kenya\",\"Sao Tome and Principe\",\"Ghana\",\"Mexico\",\"Niger\",\"Panama\",\"Togo\",\"Kiribati\",\"Nicaragua\",\"Namibia\",\"South Africa\",\"Honduras\",\"Micronesia\",\"Nauru\",\"Eswatini\",\"Malaysia\",\"Central African Republic\",\"Vietnam\",\"Ethiopia\",\"Uganda\",\"DR Congo\",\"Afghanistan\",\"Angola\",\"Benin\",\"Tajikistan\",\"Gambia\",\"Vanuatu\",\"Ivory Coast\",\"Equatorial Guinea\",\"Guinea-Bissau\",\"Bolivia\",\"Sri Lanka\",\"Lesotho\",\"Maldives\",\"Comoros\",\"Zambia\",\"Burundi\",\"Pakistan\",\"Ecuador\",\"Bhutan\",\"Tanzania\",\"Peru\",\"Myanmar\",\"India\",\"Sierra Leone\",\"Brunei\",\"Indonesia\",\"Rwanda\",\"Malawi\",\"Mauritania\",\"Liberia\",\"Cambodia\",\"Marshall Islands\",\"Philippines\",\"Madagascar\",\"Bangladesh\",\"Yemen\",\"Nepal\",\"Guatemala\",\"Mozambique\",\"Papua New Guinea\",\"Solomon Islands\",\"Laos\",\"Timor-Leste\"],\"xaxis\":\"x\",\"y\":[170.36,169.96,168.66,167.47,168.91,169.47,167.96,168.81,167.12,167.2,166.62,166.8,168.29,167.63,165.78,166.48,166.45,166.67,166.18,166.89,166.11,163.06,165.81,163.4,164.5,163.67,165.53,165.72,164.67,164.73,164.33,165.99,166.93,164.49,166.93,165.07,167.31,166.52,163.94,164.73,164.66,165.3,167.03,167.55,165.66,164.32,163.31,161.69,164.52,162.55,165.52,160.88,162.56,161.8,161.18,163.92,162.03,166.08,163.38,162.22,163.24,162.47,162.41,163.46,161.18,162.96,163.23,161.74,166.08,161.28,162.35,161.99,160.1,159.46,160.62,161.22,161.22,161.21,160.88,162.26,161.81,163.82,163.46,162.95,162.83,161.23,161.56,164.58,160.53,162.23,160.36,161.37,164.28,161.4,159.76,158.75,162.78,159.85,160.13,160.04,160.7,161.3,160.72,162.06,158.94,159.42,158.29,160.55,160.58,159.57,160.41,160.36,158.5,161.33,157.96,162.12,158.44,160.2,159.38,159.42,158.14,163.57,158.78,159.86,160.29,159.82,158.75,159.85,159.89,156.39,158.84,159.52,157.58,158.12,160.05,159.43,159.81,158.86,157.9,159.81,158.19,159.13,161.04,155.62,160.26,158.58,155.18,159.66,157.82,158.92,157.06,159.65,158.43,157.15,158.53,156.3,156.11,158.1,158.4,158.12,161.73,160.48,158.65,158.05,158.72,155.58,155.88,156.72,154.28,156.54,157.32,155.08,154.77,155.25,155.15,156.89,154.39,154.71,155.18,157.34,154.9,154.36,156.72,156.14,160.06,156.54,154.75,154.76,154.14,153.06,152.38,154.76,152.39,150.91,155.42,156.89,156.79,153.1,152.71],\"yaxis\":\"y\",\"type\":\"bar\"}],                        {\"template\":{\"data\":{\"bar\":[{\"error_x\":{\"color\":\"#2a3f5f\"},\"error_y\":{\"color\":\"#2a3f5f\"},\"marker\":{\"line\":{\"color\":\"#E5ECF6\",\"width\":0.5},\"pattern\":{\"fillmode\":\"overlay\",\"size\":10,\"solidity\":0.2}},\"type\":\"bar\"}],\"barpolar\":[{\"marker\":{\"line\":{\"color\":\"#E5ECF6\",\"width\":0.5},\"pattern\":{\"fillmode\":\"overlay\",\"size\":10,\"solidity\":0.2}},\"type\":\"barpolar\"}],\"carpet\":[{\"aaxis\":{\"endlinecolor\":\"#2a3f5f\",\"gridcolor\":\"white\",\"linecolor\":\"white\",\"minorgridcolor\":\"white\",\"startlinecolor\":\"#2a3f5f\"},\"baxis\":{\"endlinecolor\":\"#2a3f5f\",\"gridcolor\":\"white\",\"linecolor\":\"white\",\"minorgridcolor\":\"white\",\"startlinecolor\":\"#2a3f5f\"},\"type\":\"carpet\"}],\"choropleth\":[{\"colorbar\":{\"outlinewidth\":0,\"ticks\":\"\"},\"type\":\"choropleth\"}],\"contour\":[{\"colorbar\":{\"outlinewidth\":0,\"ticks\":\"\"},\"colorscale\":[[0.0,\"#0d0887\"],[0.1111111111111111,\"#46039f\"],[0.2222222222222222,\"#7201a8\"],[0.3333333333333333,\"#9c179e\"],[0.4444444444444444,\"#bd3786\"],[0.5555555555555556,\"#d8576b\"],[0.6666666666666666,\"#ed7953\"],[0.7777777777777778,\"#fb9f3a\"],[0.8888888888888888,\"#fdca26\"],[1.0,\"#f0f921\"]],\"type\":\"contour\"}],\"contourcarpet\":[{\"colorbar\":{\"outlinewidth\":0,\"ticks\":\"\"},\"type\":\"contourcarpet\"}],\"heatmap\":[{\"colorbar\":{\"outlinewidth\":0,\"ticks\":\"\"},\"colorscale\":[[0.0,\"#0d0887\"],[0.1111111111111111,\"#46039f\"],[0.2222222222222222,\"#7201a8\"],[0.3333333333333333,\"#9c179e\"],[0.4444444444444444,\"#bd3786\"],[0.5555555555555556,\"#d8576b\"],[0.6666666666666666,\"#ed7953\"],[0.7777777777777778,\"#fb9f3a\"],[0.8888888888888888,\"#fdca26\"],[1.0,\"#f0f921\"]],\"type\":\"heatmap\"}],\"heatmapgl\":[{\"colorbar\":{\"outlinewidth\":0,\"ticks\":\"\"},\"colorscale\":[[0.0,\"#0d0887\"],[0.1111111111111111,\"#46039f\"],[0.2222222222222222,\"#7201a8\"],[0.3333333333333333,\"#9c179e\"],[0.4444444444444444,\"#bd3786\"],[0.5555555555555556,\"#d8576b\"],[0.6666666666666666,\"#ed7953\"],[0.7777777777777778,\"#fb9f3a\"],[0.8888888888888888,\"#fdca26\"],[1.0,\"#f0f921\"]],\"type\":\"heatmapgl\"}],\"histogram\":[{\"marker\":{\"pattern\":{\"fillmode\":\"overlay\",\"size\":10,\"solidity\":0.2}},\"type\":\"histogram\"}],\"histogram2d\":[{\"colorbar\":{\"outlinewidth\":0,\"ticks\":\"\"},\"colorscale\":[[0.0,\"#0d0887\"],[0.1111111111111111,\"#46039f\"],[0.2222222222222222,\"#7201a8\"],[0.3333333333333333,\"#9c179e\"],[0.4444444444444444,\"#bd3786\"],[0.5555555555555556,\"#d8576b\"],[0.6666666666666666,\"#ed7953\"],[0.7777777777777778,\"#fb9f3a\"],[0.8888888888888888,\"#fdca26\"],[1.0,\"#f0f921\"]],\"type\":\"histogram2d\"}],\"histogram2dcontour\":[{\"colorbar\":{\"outlinewidth\":0,\"ticks\":\"\"},\"colorscale\":[[0.0,\"#0d0887\"],[0.1111111111111111,\"#46039f\"],[0.2222222222222222,\"#7201a8\"],[0.3333333333333333,\"#9c179e\"],[0.4444444444444444,\"#bd3786\"],[0.5555555555555556,\"#d8576b\"],[0.6666666666666666,\"#ed7953\"],[0.7777777777777778,\"#fb9f3a\"],[0.8888888888888888,\"#fdca26\"],[1.0,\"#f0f921\"]],\"type\":\"histogram2dcontour\"}],\"mesh3d\":[{\"colorbar\":{\"outlinewidth\":0,\"ticks\":\"\"},\"type\":\"mesh3d\"}],\"parcoords\":[{\"line\":{\"colorbar\":{\"outlinewidth\":0,\"ticks\":\"\"}},\"type\":\"parcoords\"}],\"pie\":[{\"automargin\":true,\"type\":\"pie\"}],\"scatter\":[{\"marker\":{\"colorbar\":{\"outlinewidth\":0,\"ticks\":\"\"}},\"type\":\"scatter\"}],\"scatter3d\":[{\"line\":{\"colorbar\":{\"outlinewidth\":0,\"ticks\":\"\"}},\"marker\":{\"colorbar\":{\"outlinewidth\":0,\"ticks\":\"\"}},\"type\":\"scatter3d\"}],\"scattercarpet\":[{\"marker\":{\"colorbar\":{\"outlinewidth\":0,\"ticks\":\"\"}},\"type\":\"scattercarpet\"}],\"scattergeo\":[{\"marker\":{\"colorbar\":{\"outlinewidth\":0,\"ticks\":\"\"}},\"type\":\"scattergeo\"}],\"scattergl\":[{\"marker\":{\"colorbar\":{\"outlinewidth\":0,\"ticks\":\"\"}},\"type\":\"scattergl\"}],\"scattermapbox\":[{\"marker\":{\"colorbar\":{\"outlinewidth\":0,\"ticks\":\"\"}},\"type\":\"scattermapbox\"}],\"scatterpolar\":[{\"marker\":{\"colorbar\":{\"outlinewidth\":0,\"ticks\":\"\"}},\"type\":\"scatterpolar\"}],\"scatterpolargl\":[{\"marker\":{\"colorbar\":{\"outlinewidth\":0,\"ticks\":\"\"}},\"type\":\"scatterpolargl\"}],\"scatterternary\":[{\"marker\":{\"colorbar\":{\"outlinewidth\":0,\"ticks\":\"\"}},\"type\":\"scatterternary\"}],\"surface\":[{\"colorbar\":{\"outlinewidth\":0,\"ticks\":\"\"},\"colorscale\":[[0.0,\"#0d0887\"],[0.1111111111111111,\"#46039f\"],[0.2222222222222222,\"#7201a8\"],[0.3333333333333333,\"#9c179e\"],[0.4444444444444444,\"#bd3786\"],[0.5555555555555556,\"#d8576b\"],[0.6666666666666666,\"#ed7953\"],[0.7777777777777778,\"#fb9f3a\"],[0.8888888888888888,\"#fdca26\"],[1.0,\"#f0f921\"]],\"type\":\"surface\"}],\"table\":[{\"cells\":{\"fill\":{\"color\":\"#EBF0F8\"},\"line\":{\"color\":\"white\"}},\"header\":{\"fill\":{\"color\":\"#C8D4E3\"},\"line\":{\"color\":\"white\"}},\"type\":\"table\"}]},\"layout\":{\"annotationdefaults\":{\"arrowcolor\":\"#2a3f5f\",\"arrowhead\":0,\"arrowwidth\":1},\"autotypenumbers\":\"strict\",\"coloraxis\":{\"colorbar\":{\"outlinewidth\":0,\"ticks\":\"\"}},\"colorscale\":{\"diverging\":[[0,\"#8e0152\"],[0.1,\"#c51b7d\"],[0.2,\"#de77ae\"],[0.3,\"#f1b6da\"],[0.4,\"#fde0ef\"],[0.5,\"#f7f7f7\"],[0.6,\"#e6f5d0\"],[0.7,\"#b8e186\"],[0.8,\"#7fbc41\"],[0.9,\"#4d9221\"],[1,\"#276419\"]],\"sequential\":[[0.0,\"#0d0887\"],[0.1111111111111111,\"#46039f\"],[0.2222222222222222,\"#7201a8\"],[0.3333333333333333,\"#9c179e\"],[0.4444444444444444,\"#bd3786\"],[0.5555555555555556,\"#d8576b\"],[0.6666666666666666,\"#ed7953\"],[0.7777777777777778,\"#fb9f3a\"],[0.8888888888888888,\"#fdca26\"],[1.0,\"#f0f921\"]],\"sequentialminus\":[[0.0,\"#0d0887\"],[0.1111111111111111,\"#46039f\"],[0.2222222222222222,\"#7201a8\"],[0.3333333333333333,\"#9c179e\"],[0.4444444444444444,\"#bd3786\"],[0.5555555555555556,\"#d8576b\"],[0.6666666666666666,\"#ed7953\"],[0.7777777777777778,\"#fb9f3a\"],[0.8888888888888888,\"#fdca26\"],[1.0,\"#f0f921\"]]},\"colorway\":[\"#636efa\",\"#EF553B\",\"#00cc96\",\"#ab63fa\",\"#FFA15A\",\"#19d3f3\",\"#FF6692\",\"#B6E880\",\"#FF97FF\",\"#FECB52\"],\"font\":{\"color\":\"#2a3f5f\"},\"geo\":{\"bgcolor\":\"white\",\"lakecolor\":\"white\",\"landcolor\":\"#E5ECF6\",\"showlakes\":true,\"showland\":true,\"subunitcolor\":\"white\"},\"hoverlabel\":{\"align\":\"left\"},\"hovermode\":\"closest\",\"mapbox\":{\"style\":\"light\"},\"paper_bgcolor\":\"white\",\"plot_bgcolor\":\"#E5ECF6\",\"polar\":{\"angularaxis\":{\"gridcolor\":\"white\",\"linecolor\":\"white\",\"ticks\":\"\"},\"bgcolor\":\"#E5ECF6\",\"radialaxis\":{\"gridcolor\":\"white\",\"linecolor\":\"white\",\"ticks\":\"\"}},\"scene\":{\"xaxis\":{\"backgroundcolor\":\"#E5ECF6\",\"gridcolor\":\"white\",\"gridwidth\":2,\"linecolor\":\"white\",\"showbackground\":true,\"ticks\":\"\",\"zerolinecolor\":\"white\"},\"yaxis\":{\"backgroundcolor\":\"#E5ECF6\",\"gridcolor\":\"white\",\"gridwidth\":2,\"linecolor\":\"white\",\"showbackground\":true,\"ticks\":\"\",\"zerolinecolor\":\"white\"},\"zaxis\":{\"backgroundcolor\":\"#E5ECF6\",\"gridcolor\":\"white\",\"gridwidth\":2,\"linecolor\":\"white\",\"showbackground\":true,\"ticks\":\"\",\"zerolinecolor\":\"white\"}},\"shapedefaults\":{\"line\":{\"color\":\"#2a3f5f\"}},\"ternary\":{\"aaxis\":{\"gridcolor\":\"white\",\"linecolor\":\"white\",\"ticks\":\"\"},\"baxis\":{\"gridcolor\":\"white\",\"linecolor\":\"white\",\"ticks\":\"\"},\"bgcolor\":\"#E5ECF6\",\"caxis\":{\"gridcolor\":\"white\",\"linecolor\":\"white\",\"ticks\":\"\"}},\"title\":{\"x\":0.05},\"xaxis\":{\"automargin\":true,\"gridcolor\":\"white\",\"linecolor\":\"white\",\"ticks\":\"\",\"title\":{\"standoff\":15},\"zerolinecolor\":\"white\",\"zerolinewidth\":2},\"yaxis\":{\"automargin\":true,\"gridcolor\":\"white\",\"linecolor\":\"white\",\"ticks\":\"\",\"title\":{\"standoff\":15},\"zerolinecolor\":\"white\",\"zerolinewidth\":2}}},\"xaxis\":{\"anchor\":\"y\",\"domain\":[0.0,1.0],\"title\":{\"text\":\"Country Name\"}},\"yaxis\":{\"anchor\":\"x\",\"domain\":[0.0,1.0],\"title\":{\"text\":\"Female Height in Cm\"}},\"coloraxis\":{\"colorbar\":{\"title\":{\"text\":\"Female Height in Cm\"}},\"colorscale\":[[0.0,\"#0d0887\"],[0.1111111111111111,\"#46039f\"],[0.2222222222222222,\"#7201a8\"],[0.3333333333333333,\"#9c179e\"],[0.4444444444444444,\"#bd3786\"],[0.5555555555555556,\"#d8576b\"],[0.6666666666666666,\"#ed7953\"],[0.7777777777777778,\"#fb9f3a\"],[0.8888888888888888,\"#fdca26\"],[1.0,\"#f0f921\"]]},\"legend\":{\"tracegroupgap\":0},\"title\":{\"text\":\"Female Height by Country (cm)\"},\"barmode\":\"relative\"},                        {\"responsive\": true}                    ).then(function(){\n",
              "                            \n",
              "var gd = document.getElementById('51e406fb-7a3a-484a-acd7-041139aea50c');\n",
              "var x = new MutationObserver(function (mutations, observer) {{\n",
              "        var display = window.getComputedStyle(gd).display;\n",
              "        if (!display || display === 'none') {{\n",
              "            console.log([gd, 'removed!']);\n",
              "            Plotly.purge(gd);\n",
              "            observer.disconnect();\n",
              "        }}\n",
              "}});\n",
              "\n",
              "// Listen for the removal of the full notebook cells\n",
              "var notebookContainer = gd.closest('#notebook-container');\n",
              "if (notebookContainer) {{\n",
              "    x.observe(notebookContainer, {childList: true});\n",
              "}}\n",
              "\n",
              "// Listen for the clearing of the current output cell\n",
              "var outputEl = gd.closest('.output');\n",
              "if (outputEl) {{\n",
              "    x.observe(outputEl, {childList: true});\n",
              "}}\n",
              "\n",
              "                        })                };                            </script>        </div>\n",
              "</body>\n",
              "</html>"
            ]
          },
          "metadata": {}
        }
      ]
    },
    {
      "cell_type": "markdown",
      "source": [
        "We can know the female height from all the countries where dark blue tells us the shortest height and yellow tells us about highest female height from different countries."
      ],
      "metadata": {
        "id": "9OgD5PwT3HKz"
      }
    },
    {
      "cell_type": "code",
      "source": [
        "plt.figure(figsize=(8,5))\n",
        "\n",
        "ax = sns.histplot(data=height, x=\"Male Height in Cm\" ,kde=True)\n",
        "\n",
        "ax.set_title('Male Height (cm) Histogram', fontsize=16)\n",
        "ax.set_xlabel('Height (cm)', fontsize=12)\n",
        "plt.show()\n"
      ],
      "metadata": {
        "colab": {
          "base_uri": "https://localhost:8080/",
          "height": 355
        },
        "id": "hqhj3Pd00NOe",
        "outputId": "fd7e0cae-4b5b-40c8-e636-98337d11b6ad"
      },
      "execution_count": 16,
      "outputs": [
        {
          "output_type": "display_data",
          "data": {
            "text/plain": [
              "<Figure size 576x360 with 1 Axes>"
            ],
            "image/png": "[encoded data removed]"
          },
          "metadata": {
            "needs_background": "light"
          }
        }
      ]
    },
    {
      "cell_type": "markdown",
      "source": [
        "We can see the number of countries whose avg. male height is between 165 cm to 170 cm and very few countries have male whose height more than 180 cm or below 160 cm."
      ],
      "metadata": {
        "id": "9Mbpr7gg3Rm_"
      }
    },
    {
      "cell_type": "code",
      "source": [
        "plt.figure(figsize=(8,5))\n",
        "\n",
        "ax = sns.histplot(data=height, x=\"Female Height in Cm\" ,kde=True)\n",
        "\n",
        "ax.set_title('Female Height (cm) Histogram', fontsize=16)\n",
        "ax.set_xlabel('Height (cm)', fontsize=12)\n",
        "plt.show()\n"
      ],
      "metadata": {
        "colab": {
          "base_uri": "https://localhost:8080/",
          "height": 355
        },
        "id": "3tV6U5bB0Ues",
        "outputId": "2a6317c9-9117-4887-a61e-4809ca458108"
      },
      "execution_count": 17,
      "outputs": [
        {
          "output_type": "display_data",
          "data": {
            "text/plain": [
              "<Figure size 576x360 with 1 Axes>"
            ],
            "image/png": "[encoded data removed]"
          },
          "metadata": {
            "needs_background": "light"
          }
        }
      ]
    },
    {
      "cell_type": "markdown",
      "source": [
        "We can see the number of countries whose avg. female height is between 157 cm to 165 cm and very few countries have female whose height more than 167 cm or below 155 cm."
      ],
      "metadata": {
        "id": "zjxjYqEe4QLP"
      }
    },
    {
      "cell_type": "code",
      "source": [
        "highest_male = height.sort_values(by='Male Height in Cm', ascending=False).head(10)[['Country Name','Male Height in Cm']]\n",
        "highest_female = height.sort_values(by='Female Height in Cm', ascending=False).head(10)[['Country Name','Female Height in Cm']]\n",
        "\n",
        "\n",
        "\n",
        "shortest_male = height.sort_values(by='Male Height in Cm', ascending=False).tail(10)[['Country Name','Male Height in Cm']]\n",
        "\n",
        "shortest_female = height.sort_values(by='Female Height in Cm', ascending=False).tail(10)[['Country Name','Female Height in Cm']]\n"
      ],
      "metadata": {
        "id": "95kfgO_10YKY"
      },
      "execution_count": 18,
      "outputs": []
    },
    {
      "cell_type": "code",
      "source": [
        "plt.figure(figsize=(12,8))\n",
        "\n",
        "ax = sns.barplot(x='Male Height in Cm',y='Country Name',data=highest_male)\n",
        "\n",
        "ax.set_xlim(180,185)\n",
        "ax.set_title('Top 10 Countries with highest male')\n",
        "\n",
        "ax.set_xlabel('Male height(Cm)')\n",
        "\n",
        "ax.set_ylabel('')\n",
        "plt.show()"
      ],
      "metadata": {
        "colab": {
          "base_uri": "https://localhost:8080/",
          "height": 513
        },
        "id": "Znfn7EfH0mJ2",
        "outputId": "15cd6415-9c88-4fbc-a2d1-3890babbae37"
      },
      "execution_count": 19,
      "outputs": [
        {
          "output_type": "display_data",
          "data": {
            "text/plain": [
              "<Figure size 864x576 with 1 Axes>"
            ],
            "image/png": "[encoded data removed]"
          },
          "metadata": {
            "needs_background": "light"
          }
        }
      ]
    },
    {
      "cell_type": "markdown",
      "source": [
        "Top 10 countries names with highest male height is between 180 cm  to 185 cm."
      ],
      "metadata": {
        "id": "jrEm4QEm5K3E"
      }
    },
    {
      "cell_type": "code",
      "source": [
        "plt.figure(figsize=(12,8))\n",
        "\n",
        "ax = sns.barplot(x='Female Height in Cm',y='Country Name',data=highest_female)\n",
        "\n",
        "ax.set_xlim(165,172)\n",
        "ax.set_title('Top 10 Countries with highest female')\n",
        "\n",
        "ax.set_xlabel('Female height(Cm)')\n",
        "\n",
        "ax.set_ylabel('')\n",
        "plt.show()"
      ],
      "metadata": {
        "colab": {
          "base_uri": "https://localhost:8080/",
          "height": 513
        },
        "id": "SZ--l0QR0qQ0",
        "outputId": "b4bc06e5-10c4-4672-8110-b002464be1d5"
      },
      "execution_count": 20,
      "outputs": [
        {
          "output_type": "display_data",
          "data": {
            "text/plain": [
              "<Figure size 864x576 with 1 Axes>"
            ],
            "image/png": "[encoded data removed]"
          },
          "metadata": {
            "needs_background": "light"
          }
        }
      ]
    },
    {
      "cell_type": "markdown",
      "source": [
        "Top 10 countries names with highest female height is between 167 cm  to 171 cm."
      ],
      "metadata": {
        "id": "PgiMcJo25lyA"
      }
    },
    {
      "cell_type": "code",
      "source": [
        "plt.figure(figsize=(12,8))\n",
        "\n",
        "ax = sns.barplot(x='Female Height in Cm',y='Country Name',data=shortest_female)\n",
        "\n",
        "ax.set_xlim(150,158)\n",
        "ax.set_title('Top 10 Countries with shortest female')\n",
        "\n",
        "ax.set_xlabel('Female height(Cm)')\n",
        "\n",
        "ax.set_ylabel('')\n",
        "plt.show()"
      ],
      "metadata": {
        "colab": {
          "base_uri": "https://localhost:8080/",
          "height": 513
        },
        "id": "ZKX1haE80t42",
        "outputId": "52b14548-bc53-45d7-dabe-b0aa567f2165"
      },
      "execution_count": 21,
      "outputs": [
        {
          "output_type": "display_data",
          "data": {
            "text/plain": [
              "<Figure size 864x576 with 1 Axes>"
            ],
            "image/png": "[encoded data removed]"
          },
          "metadata": {
            "needs_background": "light"
          }
        }
      ]
    },
    {
      "cell_type": "markdown",
      "source": [
        "Top 10 countries names with shortest female height is between 150 cm  to 155 cm."
      ],
      "metadata": {
        "id": "hbPbrVhA5x18"
      }
    },
    {
      "cell_type": "code",
      "source": [
        "plt.figure(figsize=(12,8))\n",
        "\n",
        "ax = sns.barplot(x='Male Height in Cm',y='Country Name',data=shortest_male)\n",
        "\n",
        "ax.set_xlim(160,170)\n",
        "ax.set_title('Top 10 Countries with shortest male')\n",
        "\n",
        "ax.set_xlabel('Male height(Cm)')\n",
        "\n",
        "ax.set_ylabel('')\n",
        "plt.show()"
      ],
      "metadata": {
        "colab": {
          "base_uri": "https://localhost:8080/",
          "height": 513
        },
        "id": "myAGf85e0yTr",
        "outputId": "6cc139bf-38eb-4847-bdca-3bb6b6289c48"
      },
      "execution_count": 22,
      "outputs": [
        {
          "output_type": "display_data",
          "data": {
            "text/plain": [
              "<Figure size 864x576 with 1 Axes>"
            ],
            "image/png": "[encoded data removed]"
          },
          "metadata": {
            "needs_background": "light"
          }
        }
      ]
    },
    {
      "cell_type": "markdown",
      "source": [
        "Top 10 countries names with shortest male height is between 160 cm  to 165 cm."
      ],
      "metadata": {
        "id": "jl1GIfYf59WC"
      }
    },
    {
      "cell_type": "code",
      "source": [
        ""
      ],
      "metadata": {
        "id": "FGLizoHU01SJ"
      },
      "execution_count": null,
      "outputs": []
    }
  ]
}